{
  "nbformat": 4,
  "nbformat_minor": 0,
  "metadata": {
    "colab": {
      "name": "stats418_hw3.ipynb",
      "version": "0.3.2",
      "provenance": [],
      "collapsed_sections": []
    },
    "kernelspec": {
      "name": "python3",
      "display_name": "Python 3"
    }
  },
  "cells": [
    {
      "cell_type": "code",
      "metadata": {
        "id": "ZvDEfWh_aOOd",
        "colab_type": "code",
        "colab": {}
      },
      "source": [
        "import pandas as pd\n",
        "import numpy as np\n",
        "# from sklearn.model_selection import train_test_split\n",
        "from sklearn import linear_model\n",
        "# from sklearn.metrics import mean_squared_error, r2_score"
      ],
      "execution_count": 0,
      "outputs": []
    },
    {
      "cell_type": "code",
      "metadata": {
        "id": "yVzSwytQ1194",
        "colab_type": "code",
        "colab": {
          "base_uri": "https://localhost:8080/",
          "height": 68
        },
        "outputId": "73d17172-d683-4d3f-ccf3-d99b46369441"
      },
      "source": [
        "print('The pandas version is {}.'.format(pd.__version__))\n",
        "print('The numpy version is {}.'.format(np.__version__))\n",
        "print('The scikit-learn version is {}.'.format(sklearn.__version__))"
      ],
      "execution_count": 21,
      "outputs": [
        {
          "output_type": "stream",
          "text": [
            "The pandas version is 0.24.2.\n",
            "The numpy version is 1.16.3.\n",
            "The scikit-learn version is 0.20.3.\n"
          ],
          "name": "stdout"
        }
      ]
    },
    {
      "cell_type": "code",
      "metadata": {
        "id": "Xp60z4T_aW8v",
        "colab_type": "code",
        "outputId": "3f68b49e-5195-4f3f-b185-129c412e9ca0",
        "colab": {
          "base_uri": "https://localhost:8080/",
          "height": 204
        }
      },
      "source": [
        "data = pd.read_csv('https://raw.githubusercontent.com/natelangholz/stat418-tools-in-datascience/master/week-6/hw3/mtcars.csv')\n",
        "# data.head()\n",
        "labels = data['mpg']\n",
        "train1 = data.iloc[:,3:8]\n",
        "x_train, x_test, y_train, y_test = train_test_split(train1, labels, test_size=0.20, random_state=2)\n",
        "# x_train.head()"
      ],
      "execution_count": 22,
      "outputs": [
        {
          "output_type": "execute_result",
          "data": {
            "text/html": [
              "<div>\n",
              "<style scoped>\n",
              "    .dataframe tbody tr th:only-of-type {\n",
              "        vertical-align: middle;\n",
              "    }\n",
              "\n",
              "    .dataframe tbody tr th {\n",
              "        vertical-align: top;\n",
              "    }\n",
              "\n",
              "    .dataframe thead th {\n",
              "        text-align: right;\n",
              "    }\n",
              "</style>\n",
              "<table border=\"1\" class=\"dataframe\">\n",
              "  <thead>\n",
              "    <tr style=\"text-align: right;\">\n",
              "      <th></th>\n",
              "      <th>disp</th>\n",
              "      <th>hp</th>\n",
              "      <th>drat</th>\n",
              "      <th>wt</th>\n",
              "      <th>qsec</th>\n",
              "    </tr>\n",
              "  </thead>\n",
              "  <tbody>\n",
              "    <tr>\n",
              "      <th>21</th>\n",
              "      <td>318.0</td>\n",
              "      <td>150</td>\n",
              "      <td>2.76</td>\n",
              "      <td>3.520</td>\n",
              "      <td>16.87</td>\n",
              "    </tr>\n",
              "    <tr>\n",
              "      <th>14</th>\n",
              "      <td>472.0</td>\n",
              "      <td>205</td>\n",
              "      <td>2.93</td>\n",
              "      <td>5.250</td>\n",
              "      <td>17.98</td>\n",
              "    </tr>\n",
              "    <tr>\n",
              "      <th>16</th>\n",
              "      <td>440.0</td>\n",
              "      <td>230</td>\n",
              "      <td>3.23</td>\n",
              "      <td>5.345</td>\n",
              "      <td>17.42</td>\n",
              "    </tr>\n",
              "    <tr>\n",
              "      <th>25</th>\n",
              "      <td>79.0</td>\n",
              "      <td>66</td>\n",
              "      <td>4.08</td>\n",
              "      <td>1.935</td>\n",
              "      <td>18.90</td>\n",
              "    </tr>\n",
              "    <tr>\n",
              "      <th>19</th>\n",
              "      <td>71.1</td>\n",
              "      <td>65</td>\n",
              "      <td>4.22</td>\n",
              "      <td>1.835</td>\n",
              "      <td>19.90</td>\n",
              "    </tr>\n",
              "  </tbody>\n",
              "</table>\n",
              "</div>"
            ],
            "text/plain": [
              "     disp   hp  drat     wt   qsec\n",
              "21  318.0  150  2.76  3.520  16.87\n",
              "14  472.0  205  2.93  5.250  17.98\n",
              "16  440.0  230  3.23  5.345  17.42\n",
              "25   79.0   66  4.08  1.935  18.90\n",
              "19   71.1   65  4.22  1.835  19.90"
            ]
          },
          "metadata": {
            "tags": []
          },
          "execution_count": 22
        }
      ]
    },
    {
      "cell_type": "code",
      "metadata": {
        "id": "FTbO6qpyo_cy",
        "colab_type": "code",
        "outputId": "d03ae8ff-147a-487a-ba85-3d0cef82fa84",
        "colab": {
          "base_uri": "https://localhost:8080/",
          "height": 102
        }
      },
      "source": [
        "# Create linear regression object\n",
        "regr = linear_model.LinearRegression()\n",
        "\n",
        "# Train the model using the training sets\n",
        "regr.fit(x_train, y_train)\n",
        "\n",
        "# Make predictions using the testing set\n",
        "y_pred = regr.predict(x_test)\n",
        "\n",
        "## The coefficients\n",
        "# print('Coefficients: \\n', regr.coef_)\n",
        "# print('Fitted Regression Model: mpg = 0.0061 * disp - 0.0212 * hp + 2.1865 * drat - 4.1440 * wt + 0.5594 * qsec')\n",
        "## The mean squared error\n",
        "# print('Mean squared error: ', mean_squared_error(y_test, y_pred))\n",
        "## R_square\n",
        "# print('R_squared: ', r2_score(y_test, y_pred))"
      ],
      "execution_count": 23,
      "outputs": [
        {
          "output_type": "stream",
          "text": [
            "Coefficients: \n",
            " [ 0.00614784 -0.0212033   2.18649378 -4.14400547  0.55941993]\n",
            "Fitted Regression Model: mpg = 0.0061 * disp - 0.0212 * hp + 2.1865 * drat - 4.1440 * wt + 0.5594 * qsec\n",
            "Mean squared error:  3.989626997229625\n",
            "R_squared:  0.44323387199746056\n"
          ],
          "name": "stdout"
        }
      ]
    },
    {
      "cell_type": "code",
      "metadata": {
        "id": "oOKYdynnupbF",
        "colab_type": "code",
        "colab": {}
      },
      "source": [
        "def predict(dict_values, col_imp=col_imp, regr=regr):\n",
        "    x = np.array([float(dict_values[col]) for col in col_imp])\n",
        "    x = x.reshape(1,-1)\n",
        "    y_pred = regr.predict(x)[0]\n",
        "    return y_pred"
      ],
      "execution_count": 0,
      "outputs": []
    }
  ]
}